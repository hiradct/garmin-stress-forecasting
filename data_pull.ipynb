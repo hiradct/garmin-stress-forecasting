{
 "cells": [
  {
   "cell_type": "code",
   "execution_count": null,
   "metadata": {},
   "outputs": [],
   "source": [
    "import pandas as pd\n",
    "import numpy as np\n",
    "import json\n",
    "import os\n",
    "from datetime import datetime, timedelta, time\n",
    "from garminconnect import Garmin"
   ]
  },
  {
   "cell_type": "code",
   "execution_count": null,
   "metadata": {},
   "outputs": [],
   "source": [
    "LOOKBACK_WINDOW = 90\n",
    "START_DATE = datetime.today().date()"
   ]
  },
  {
   "cell_type": "code",
   "execution_count": null,
   "metadata": {},
   "outputs": [],
   "source": [
    "email = os.getenv('garmin_email')\n",
    "password = os.environ.get('garmin_pwd')"
   ]
  },
  {
   "cell_type": "code",
   "execution_count": null,
   "metadata": {},
   "outputs": [],
   "source": [
    "api = Garmin(email, password)\n",
    "api.login()"
   ]
  },
  {
   "cell_type": "code",
   "execution_count": null,
   "metadata": {},
   "outputs": [],
   "source": [
    "def datetime_range(start, end, delta):\n",
    "    current = start\n",
    "    while current < end:\n",
    "        yield current\n",
    "        current += delta\n",
    "\n",
    "dts = [pd.to_datetime(dt.strftime('%Y-%m-%dT%H:%M:%S')) for dt in \n",
    "       datetime_range(datetime.combine(START_DATE-timedelta(LOOKBACK_WINDOW), time.min), \n",
    "                      datetime.combine(START_DATE+timedelta(1), time.min), \n",
    "                      timedelta(minutes=1))]\n",
    "\n",
    "val= {'timestamp': dts}\n",
    "main_df = pd.DataFrame(val)"
   ]
  },
  {
   "cell_type": "code",
   "execution_count": null,
   "metadata": {},
   "outputs": [],
   "source": [
    "# steps data\n",
    "steps_vals = {\n",
    "    'startGMT': [],\n",
    "    'endGMT': [],\n",
    "    'steps': [],\n",
    "    'primaryActivityLevel': [],\n",
    "    'activityLevelConstant': []\n",
    "}\n",
    "for i in range(LOOKBACK_WINDOW):\n",
    "    steps_l = api.get_steps_data((START_DATE - timedelta(days=i)).isoformat())\n",
    "    for entry in steps_l:\n",
    "        for key in entry:\n",
    "            steps_vals[key].append(entry[key])\n",
    "# steps df has info on the number of steps, activity level in 15 min interval\n",
    "steps_df = pd.DataFrame(steps_vals)\n",
    "steps_df['startGMT']=pd.to_datetime(steps_df['startGMT'])\n",
    "steps_df['endGMT']=pd.to_datetime(steps_df['endGMT'])\n",
    "\n",
    "# no missing values\n",
    "steps_df.isnull().sum()"
   ]
  },
  {
   "cell_type": "code",
   "execution_count": null,
   "metadata": {},
   "outputs": [],
   "source": [
    "# joining steps\n",
    "main_df = pd.merge(main_df,\n",
    "        steps_df,\n",
    "        left_on='timestamp',\n",
    "        right_on='startGMT',\n",
    "        how='left')"
   ]
  },
  {
   "cell_type": "code",
   "execution_count": null,
   "metadata": {},
   "outputs": [],
   "source": [
    "# heart rate data\n",
    "hr_vals = {\n",
    "    'recordGMT': [],\n",
    "    'heartRate': []\n",
    "}\n",
    "\n",
    "for i in range(LOOKBACK_WINDOW):\n",
    "    heart_l = api.get_heart_rates((START_DATE - timedelta(days=i)).isoformat())['heartRateValues']\n",
    "    for entry in heart_l:\n",
    "        timestamp = datetime.fromtimestamp(int(str(entry[0])[:10]))\n",
    "        hr_vals['recordGMT'].append(timestamp)\n",
    "        hr_vals['heartRate'].append(entry[1])\n",
    "\n",
    "# heart rate data available at a 2 minute interval\n",
    "hr_df = pd.DataFrame(hr_vals)\n",
    "\n",
    "# there are missing values in hr dataset (233 at the moment of taking a sample\n",
    "# NA values identify that the watch has been taken off (?)\n",
    "# as after them there is a variable period of time (more than 2 minutes) when there are no records\n",
    "# IMO those values should be dropped entirely\n",
    "hr_df.isnull().sum()\n",
    "hr_df = hr_df.fillna('NA')"
   ]
  },
  {
   "cell_type": "code",
   "execution_count": null,
   "metadata": {},
   "outputs": [],
   "source": [
    "# joining heart rate\n",
    "main_df = pd.merge(main_df,\n",
    "                   hr_df,\n",
    "                   left_on='timestamp',\n",
    "                   right_on='recordGMT',\n",
    "                   how='left')"
   ]
  },
  {
   "cell_type": "code",
   "execution_count": null,
   "metadata": {},
   "outputs": [],
   "source": [
    "# daily resting heart data\n",
    "rhr_vals = {\n",
    "    'calendarDate': [],\n",
    "    'restingHeartRate': []\n",
    "}\n",
    "\n",
    "for i in range(LOOKBACK_WINDOW):\n",
    "    rhr_dict = api.get_rhr_day((START_DATE - timedelta(days=i)).isoformat())['allMetrics']['metricsMap']['WELLNESS_RESTING_HEART_RATE'][0]\n",
    "    rhr_vals['calendarDate'].append(rhr_dict['calendarDate'])\n",
    "    rhr_vals['restingHeartRate'].append(rhr_dict['value'])\n",
    "\n",
    "# resting heart rate available daily\n",
    "rhr_df = pd.DataFrame(rhr_vals)\n",
    "rhr_df['calendarDate'] = pd.to_datetime(rhr_df['calendarDate']) \n",
    "\n",
    "# no missing values\n",
    "rhr_df.isnull().sum()\n",
    "\n",
    "# joining daily heart rate\n",
    "main_df = pd.merge(main_df,\n",
    "                   rhr_df,\n",
    "                   left_on='timestamp',\n",
    "                   right_on='calendarDate',\n",
    "                   how='left')"
   ]
  },
  {
   "cell_type": "code",
   "execution_count": null,
   "metadata": {},
   "outputs": [],
   "source": [
    "# sleep data\n",
    "\n",
    "# daily sleep data\n",
    "daily_sleep_vals = {\n",
    "    'calendarDate': [],\n",
    "    'sleepTimeSeconds': [],\n",
    "    'napTimeSeconds': [],\n",
    "    'sleepStartTimestampGMT': [],\n",
    "    'sleepEndTimestampGMT': [],\n",
    "    'deepSleepSeconds': [],\n",
    "    'lightSleepSeconds': []\n",
    "}\n",
    "\n",
    "# sleep movement data - every minute\n",
    "sleep_movement_vals = {\n",
    "    'startGMT': [],\n",
    "    'endGMT': [],\n",
    "    'activityLevel': []\n",
    "}\n",
    "\n",
    "# sleep levels data - random timeframe\n",
    "sleep_level_vals = {\n",
    "    'startGMT': [],\n",
    "    'endGMT': [],\n",
    "    'activityLevel': []\n",
    "}\n",
    "\n",
    "# sleep respiration - every two minutes\n",
    "sleep_resp_vals = {\n",
    "    'startTimeGMT': [],\n",
    "    'respirationValue': [],\n",
    "}\n",
    "\n",
    "# sleep stress - every three minutes\n",
    "sleep_stress_vals = {\n",
    "    'startGMT': [],\n",
    "    'value': []\n",
    "}\n",
    "\n",
    "for i in range(LOOKBACK_WINDOW):\n",
    "    sleep_api = api.get_sleep_data((START_DATE - timedelta(days=i)).isoformat())\n",
    "    # daily sleep\n",
    "    daily_sleep_dict = sleep_api['dailySleepDTO']\n",
    "    for key, value in daily_sleep_dict.items():\n",
    "        if key in daily_sleep_vals.keys():\n",
    "            if 'GMT' in key:\n",
    "                try:\n",
    "                    value = datetime.fromtimestamp(int(str(value)[:10]))\n",
    "                except:\n",
    "                    value = None\n",
    "            daily_sleep_vals[key].append(value)\n",
    "    \n",
    "    # sleep movement\n",
    "    sleep_movement_l = sleep_api['sleepMovement']\n",
    "    for entry in sleep_movement_l:\n",
    "        for k, v in entry.items():\n",
    "            sleep_movement_vals[k].append(v)\n",
    "    \n",
    "    # sleep activity levels\n",
    "    sleep_act_l = sleep_api['sleepLevels']\n",
    "    for entry in sleep_act_l:\n",
    "        for k,v in entry.items():\n",
    "            sleep_level_vals[k].append(v)\n",
    "            \n",
    "    # sleep respiration\n",
    "    try:\n",
    "        sleep_resp_l = sleep_api['wellnessEpochRespirationDataDTOList']\n",
    "        for entry in sleep_resp_l:\n",
    "            sleep_resp_vals['startTimeGMT'].append(datetime.fromtimestamp(int(str(entry['startTimeGMT'])[:10])))\n",
    "            sleep_resp_vals['respirationValue'].append(entry['respirationValue'])\n",
    "    except:\n",
    "        continue\n",
    "    \n",
    "    # sleep stress\n",
    "    sleep_stress_l = sleep_api['sleepStress']\n",
    "    for entry in sleep_stress_l:\n",
    "        sleep_stress_vals['startGMT'].append(datetime.fromtimestamp(int(str(entry['startGMT'])[:10])))\n",
    "        sleep_stress_vals['value'].append(entry['value'])"
   ]
  },
  {
   "cell_type": "code",
   "execution_count": null,
   "metadata": {},
   "outputs": [],
   "source": [
    "daily_sleep_df = pd.DataFrame(daily_sleep_vals)\n",
    "daily_sleep_df['calendarDate'] = pd.to_datetime(daily_sleep_df['calendarDate'])\n",
    "\n",
    "# there are missing values in daily sleep\n",
    "# 23 at the time of of the sample pull\n",
    "# filled with NA\n",
    "daily_sleep_df.isnull().sum()\n",
    "daily_slee_df = daily_sleep_df.fillna('NA')\n",
    "\n",
    "# joining daily sleep\n",
    "main_df = pd.merge(main_df,\n",
    "                   daily_sleep_df,\n",
    "                   left_on='timestamp',\n",
    "                   right_on='calendarDate',\n",
    "                   how='left')"
   ]
  },
  {
   "cell_type": "code",
   "execution_count": null,
   "metadata": {},
   "outputs": [],
   "source": [
    "sleep_movement_df = pd.DataFrame(sleep_movement_vals)\n",
    "sleep_movement_df['startGMT']=pd.to_datetime(sleep_movement_df['startGMT'])\n",
    "sleep_movement_df['endGMT']=pd.to_datetime(sleep_movement_df['endGMT'])\n",
    "sleep_movement_df = sleep_movement_df.rename(columns={'activityLevel': 'sleepMovementActivityLevel'})\n",
    "# no missing values\n",
    "sleep_movement_df.isnull().sum()\n",
    "# joining sleep movement\n",
    "main_df = pd.merge(main_df,\n",
    "                   sleep_movement_df,\n",
    "                   left_on='timestamp',\n",
    "                   right_on='startGMT',\n",
    "                   how='left')"
   ]
  },
  {
   "cell_type": "code",
   "execution_count": null,
   "metadata": {},
   "outputs": [],
   "source": [
    "sleep_activity_lvl_df = pd.DataFrame(sleep_level_vals)\n",
    "sleep_activity_lvl_df['startGMT']=pd.to_datetime(sleep_activity_lvl_df['startGMT'])\n",
    "sleep_activity_lvl_df['endGMT']=pd.to_datetime(sleep_activity_lvl_df['endGMT'])\n",
    "sleep_activity_lvl_df = sleep_activity_lvl_df.rename(columns={'activityLevel': 'sleepActivityLevel'})\n",
    "# no missing values\n",
    "sleep_activity_lvl_df.isnull().sum()\n",
    "# joining sleep activity lvl\n",
    "main_df = pd.merge(main_df,\n",
    "                   sleep_activity_lvl_df,\n",
    "                   left_on='timestamp',\n",
    "                   right_on='startGMT',\n",
    "                   how='left')"
   ]
  },
  {
   "cell_type": "code",
   "execution_count": null,
   "metadata": {},
   "outputs": [],
   "source": [
    "sleep_resp_df = pd.DataFrame(sleep_resp_vals)\n",
    "# no missing values\n",
    "sleep_resp_df.isnull().sum()\n",
    "# joining sleep activity lvl\n",
    "main_df = pd.merge(main_df,\n",
    "                   sleep_resp_df,\n",
    "                   left_on='timestamp',\n",
    "                   right_on='startTimeGMT',\n",
    "                   how='left')"
   ]
  },
  {
   "cell_type": "code",
   "execution_count": null,
   "metadata": {},
   "outputs": [],
   "source": [
    "sleep_stress_df = pd.DataFrame(sleep_stress_vals)\n",
    "sleep_stress_df = sleep_stress_df.rename(columns={'value': 'sleepStress'})\n",
    "# no missing values\n",
    "sleep_stress_df.isnull().sum()\n",
    "main_df = pd.merge(main_df,\n",
    "                   sleep_stress_df,\n",
    "                   left_on='timestamp',\n",
    "                   right_on='startGMT',\n",
    "                   how='left')"
   ]
  },
  {
   "cell_type": "code",
   "execution_count": null,
   "metadata": {},
   "outputs": [],
   "source": [
    "# stress data - every three minutes\n",
    "# body battery - every three minutes\n",
    "stress_vals = {\n",
    "    'timestampGMT': [],\n",
    "    'stressLevel': []\n",
    "}\n",
    "\n",
    "battery_vals = {\n",
    "    'timestampGMT': [],\n",
    "    'bodyBatteryStatus': [],\n",
    "    'bodyBatteryLevel': [],\n",
    "    'bodyBatteryVersion': []\n",
    "}\n",
    "\n",
    "for i in range(LOOKBACK_WINDOW):\n",
    "    stress_api = api.get_stress_data((START_DATE - timedelta(days=i)).isoformat())\n",
    "    #stress parsing\n",
    "    stress_l = stress_api['stressValuesArray']\n",
    "    for entry in stress_l:\n",
    "        timestamp = datetime.fromtimestamp(int(str(entry[0])[:10]))\n",
    "        stress_vals['timestampGMT'].append(timestamp)\n",
    "        stress_vals['stressLevel'].append(entry[1])\n",
    "        \n",
    "    #body battery parsing\n",
    "    body_battery_l = stress_api['bodyBatteryValuesArray']\n",
    "    for entry in body_battery_l:\n",
    "        timestamp = datetime.fromtimestamp(int(str(entry[0])[:10]))\n",
    "        battery_vals['timestampGMT'].append(timestamp)\n",
    "        battery_vals['bodyBatteryStatus'].append(entry[1])\n",
    "        battery_vals['bodyBatteryLevel'].append(entry[2])\n",
    "        battery_vals['bodyBatteryVersion'].append(entry[3])"
   ]
  },
  {
   "cell_type": "code",
   "execution_count": null,
   "metadata": {},
   "outputs": [],
   "source": [
    "stress_df = pd.DataFrame(stress_vals)\n",
    "# no missing values\n",
    "stress_df.isnull().sum()\n",
    "# joining stress\n",
    "main_df = pd.merge(main_df,\n",
    "                   stress_df,\n",
    "                   left_on='timestamp',\n",
    "                   right_on='timestampGMT',\n",
    "                   how='left')"
   ]
  },
  {
   "cell_type": "code",
   "execution_count": null,
   "metadata": {},
   "outputs": [],
   "source": [
    "body_battery_df = pd.DataFrame(battery_vals)\n",
    "# there are missing values\n",
    "# consider dropping (?)\n",
    "body_battery_df.isnull().sum()\n",
    "# joining body battery\n",
    "main_df = pd.merge(main_df,\n",
    "                   body_battery_df,\n",
    "                   left_on='timestamp',\n",
    "                   right_on='timestampGMT',\n",
    "                   how='left')"
   ]
  },
  {
   "cell_type": "code",
   "execution_count": null,
   "metadata": {},
   "outputs": [],
   "source": [
    "# drop time columns\n",
    "main_df = main_df[main_df.columns.drop(list(main_df.filter(regex='GMT|Date')))]"
   ]
  },
  {
   "cell_type": "code",
   "execution_count": null,
   "metadata": {},
   "outputs": [],
   "source": [
    "#### cleaning part"
   ]
  },
  {
   "cell_type": "code",
   "execution_count": null,
   "metadata": {},
   "outputs": [],
   "source": [
    "# as it was joined on startGMT, we forward fill 15 (incremental time)\n",
    "main_df['steps'] = main_df['steps'].ffill(limit=15)\n",
    "main_df['steps'] = main_df['steps']/15\n",
    "main_df['steps'] = main_df['steps'].fillna('NA')\n",
    "\n",
    "for column in steps_df.columns[3:]:\n",
    "    try:\n",
    "        main_df[column] = main_df[column].ffill(limit=15)\n",
    "        main_df[column] = main_df[column].fillna('NA')\n",
    "    except KeyError:\n",
    "        continue"
   ]
  },
  {
   "cell_type": "code",
   "execution_count": null,
   "metadata": {},
   "outputs": [],
   "source": [
    "# forward filling the heart rate\n",
    "# NA values indicate that the watch was taken off and then it resumes when put back\n",
    "# by ffilling, we eliminate that\n",
    "main_df['heartRate'] = main_df['heartRate'].ffill()"
   ]
  },
  {
   "cell_type": "code",
   "execution_count": null,
   "metadata": {},
   "outputs": [],
   "source": [
    "# back filling resting heart rate for the entirety of the day\n",
    "main_df['restingHeartRate'] = main_df['restingHeartRate'].bfill()"
   ]
  },
  {
   "cell_type": "code",
   "execution_count": null,
   "metadata": {},
   "outputs": [],
   "source": [
    "# back filling sleep df\n",
    "for column in daily_sleep_df.columns:\n",
    "    try:\n",
    "        main_df[column] = main_df[column].bfill()\n",
    "    except KeyError:\n",
    "        continue"
   ]
  },
  {
   "cell_type": "code",
   "execution_count": null,
   "metadata": {},
   "outputs": [],
   "source": [
    "# fill sleep movement with NA as bfill is not applicable\n",
    "main_df['sleepMovementActivityLevel'] = main_df['sleepMovementActivityLevel'].fillna('NA')"
   ]
  },
  {
   "cell_type": "code",
   "execution_count": null,
   "metadata": {},
   "outputs": [],
   "source": [
    "# decide on this df later\n",
    "sleep_activity_lvl_df['sleepActivityLevel'].unique()"
   ]
  },
  {
   "cell_type": "code",
   "execution_count": null,
   "metadata": {},
   "outputs": [],
   "source": [
    "# backfilling respiration value\n",
    "# bfill values with a limit of two to prevent filling the NAs\n",
    "# fill up the rest with NA's as it is not applicable\n",
    "main_df['respirationValue'] = main_df['respirationValue'].bfill(limit=2)\n",
    "main_df['respirationValue'] = main_df['respirationValue'].fillna('NA')"
   ]
  },
  {
   "cell_type": "code",
   "execution_count": null,
   "metadata": {},
   "outputs": [],
   "source": [
    "# backfilling sleep stress\n",
    "# bfill values with a limit of three to prevent filling the NAs\n",
    "# fill up the rest with NA's as it is not applicable\n",
    "main_df['sleepStress'] = main_df['sleepStress'].bfill(limit=3)\n",
    "main_df['sleepStress'] = main_df['sleepStress'].fillna('NA')"
   ]
  },
  {
   "cell_type": "code",
   "execution_count": null,
   "metadata": {},
   "outputs": [],
   "source": [
    "# backfilling stress_df\n",
    "# bfill with a limit of three\n",
    "main_df['stressLevel'] = main_df['stressLevel'].bfill(limit=3)\n",
    "main_df['stressLevel'] = np.where(main_df['stressLevel'] >= 0, \n",
    "                                  main_df['stressLevel'], \n",
    "                                  'NA')\n",
    "main_df['stressLevel'] = main_df['stressLevel'].fillna('NA')"
   ]
  },
  {
   "cell_type": "code",
   "execution_count": null,
   "metadata": {},
   "outputs": [],
   "source": [
    "# backfilling stress_df\n",
    "# bfill with a limit of three\n",
    "for column in body_battery_df.columns:\n",
    "    try:\n",
    "        main_df[column] = main_df[column].bfill(limit=3)\n",
    "        main_df[column] = main_df[column].fillna('NA')\n",
    "    except KeyError:\n",
    "        continue"
   ]
  },
  {
   "cell_type": "code",
   "execution_count": null,
   "metadata": {
    "scrolled": true
   },
   "outputs": [],
   "source": [
    "main_df[main_df['heartRate'].notnull()]"
   ]
  },
  {
   "cell_type": "code",
   "execution_count": null,
   "metadata": {},
   "outputs": [],
   "source": []
  }
 ],
 "metadata": {
  "kernelspec": {
   "display_name": "Python 3 (ipykernel)",
   "language": "python",
   "name": "python3"
  },
  "language_info": {
   "codemirror_mode": {
    "name": "ipython",
    "version": 3
   },
   "file_extension": ".py",
   "mimetype": "text/x-python",
   "name": "python",
   "nbconvert_exporter": "python",
   "pygments_lexer": "ipython3",
   "version": "3.9.13"
  },
  "vscode": {
   "interpreter": {
    "hash": "a89cca29c666dcf9577f21731da58dd6077a2c77eed0224de4447ee3aeed381c"
   }
  }
 },
 "nbformat": 4,
 "nbformat_minor": 2
}
