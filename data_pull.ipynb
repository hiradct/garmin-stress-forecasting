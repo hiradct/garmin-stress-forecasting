{
 "cells": [
  {
   "cell_type": "code",
   "execution_count": null,
   "metadata": {},
   "outputs": [],
   "source": [
    "import pandas as pd\n",
    "import numpy as np\n",
    "import json\n",
    "import os\n",
    "from datetime import datetime, timedelta\n",
    "from garminconnect import Garmin"
   ]
  },
  {
   "cell_type": "code",
   "execution_count": null,
   "metadata": {},
   "outputs": [],
   "source": [
    "LOOKBACK_WINDOW = 3\n",
    "START_DATE = datetime.today().date()"
   ]
  },
  {
   "cell_type": "code",
   "execution_count": null,
   "metadata": {},
   "outputs": [],
   "source": [
    "email = os.getenv('garmin_email')\n",
    "password = os.environ.get('garmin_pwd')"
   ]
  },
  {
   "cell_type": "code",
   "execution_count": null,
   "metadata": {},
   "outputs": [],
   "source": [
    "api = Garmin(email, password)\n",
    "api.login()"
   ]
  },
  {
   "cell_type": "code",
   "execution_count": null,
   "metadata": {},
   "outputs": [],
   "source": [
    "# steps data\n",
    "steps_vals = {\n",
    "    'startGMT': [],\n",
    "    'endGMT': [],\n",
    "    'steps': [],\n",
    "    'primaryActivityLevel': [],\n",
    "    'activityLevelConstant': []\n",
    "}\n",
    "for i in range(LOOKBACK_WINDOW):\n",
    "    steps_l = api.get_steps_data((START_DATE - timedelta(days=i)).isoformat())\n",
    "    for entry in steps_l:\n",
    "        for key in entry:\n",
    "            steps_vals[key].append(entry[key])\n",
    "# steps df has info on the number of steps, activity level in 15 min interval\n",
    "steps_df = pd.DataFrame(steps_vals)"
   ]
  },
  {
   "cell_type": "code",
   "execution_count": null,
   "metadata": {},
   "outputs": [],
   "source": [
    "# heart rate data\n",
    "hr_vals = {\n",
    "    'recordGMT': [],\n",
    "    'heartRate': []\n",
    "}\n",
    "\n",
    "for i in range(LOOKBACK_WINDOW):\n",
    "    heart_l = api.get_heart_rates((START_DATE - timedelta(days=i)).isoformat())['heartRateValues']\n",
    "    for entry in heart_l:\n",
    "        timestamp = datetime.fromtimestamp(int(str(entry[0])[:10]))\n",
    "        hr_vals['recordGMT'].append(timestamp)\n",
    "        hr_vals['heartRate'].append(entry[1])\n",
    "\n",
    "# heart rate data available at a 2 minute interval\n",
    "hr_df = pd.DataFrame(hr_vals)"
   ]
  },
  {
   "cell_type": "code",
   "execution_count": null,
   "metadata": {},
   "outputs": [],
   "source": [
    "# daily resting heart data\n",
    "rhr_vals = {\n",
    "    'calendarDate': [],\n",
    "    'restingHeartRate': []\n",
    "}\n",
    "\n",
    "for i in range(LOOKBACK_WINDOW):\n",
    "    rhr_dict = api.get_rhr_day((START_DATE - timedelta(days=i)).isoformat())['allMetrics']['metricsMap']['WELLNESS_RESTING_HEART_RATE'][0]\n",
    "    rhr_vals['calendarDate'].append(rhr_dict['calendarDate'])\n",
    "    rhr_vals['restingHeartRate'].append(rhr_dict['value'])\n",
    "\n",
    "# resting heart rate available daily\n",
    "rhr_df = pd.DataFrame(rhr_vals)"
   ]
  },
  {
   "cell_type": "code",
   "execution_count": null,
   "metadata": {},
   "outputs": [],
   "source": [
    "# hydration data is missing a lot of data - is it manual input?\n",
    "# hydration daily"
   ]
  },
  {
   "cell_type": "code",
   "execution_count": null,
   "metadata": {},
   "outputs": [],
   "source": [
    "# sleep data\n",
    "\n",
    "# daily sleep data\n",
    "daily_sleep_vals = {\n",
    "    'calendarDate': [],\n",
    "    'sleepTimeSeconds': [],\n",
    "    'napTimeSeconds': [],\n",
    "    'sleepStartTimestampGMT': [],\n",
    "    'sleepEndTimestampGMT': [],\n",
    "    'deepSleepSeconds': [],\n",
    "    'lightSleepSeconds': []\n",
    "}\n",
    "\n",
    "# sleep movement data - every minute\n",
    "sleep_movement_vals = {\n",
    "    'startGMT': [],\n",
    "    'endGMT': [],\n",
    "    'activityLevel': []\n",
    "}\n",
    "\n",
    "# sleep levels data - random timeframe\n",
    "sleep_level_vals = {\n",
    "    'startGMT': [],\n",
    "    'endGMT': [],\n",
    "    'activityLevel': []\n",
    "}\n",
    "\n",
    "# sleep respiration - every two minutes\n",
    "sleep_resp_vals = {\n",
    "    'startTimeGMT': [],\n",
    "    'respirationValue': [],\n",
    "}\n",
    "\n",
    "# sleep stress - every three minutes\n",
    "sleep_stress_vals = {\n",
    "    'startGMT': [],\n",
    "    'value': []\n",
    "}\n",
    "\n",
    "for i in range(LOOKBACK_WINDOW):\n",
    "    sleep_api = api.get_sleep_data((START_DATE - timedelta(days=i)).isoformat())\n",
    "    # daily sleep\n",
    "    daily_sleep_dict = sleep_api['dailySleepDTO']\n",
    "    for key, value in daily_sleep_dict.items():\n",
    "        if key in daily_sleep_vals.keys():\n",
    "            if 'GMT' in key:\n",
    "                value = datetime.fromtimestamp(int(str(value)[:10]))\n",
    "            daily_sleep_vals[key].append(value)\n",
    "    \n",
    "    # sleep movement\n",
    "    sleep_movement_l = sleep_api['sleepMovement']\n",
    "    for entry in sleep_movement_l:\n",
    "        for k, v in entry.items():\n",
    "            sleep_movement_vals[k].append(v)\n",
    "    \n",
    "    # sleep activity levels\n",
    "    sleep_act_l = sleep_api['sleepLevels']\n",
    "    for entry in sleep_act_l:\n",
    "        for k,v in entry.items():\n",
    "            sleep_level_vals[k].append(v)\n",
    "            \n",
    "    # sleep respiration\n",
    "    sleep_resp_l = sleep_api['wellnessEpochRespirationDataDTOList']\n",
    "    for entry in sleep_resp_l:\n",
    "        sleep_resp_vals['startTimeGMT'].append(datetime.fromtimestamp(int(str(entry['startTimeGMT'])[:10])))\n",
    "        sleep_resp_vals['respirationValue'].append(entry['respirationValue'])\n",
    "    \n",
    "    # sleep stress\n",
    "    sleep_stress_l = sleep_api['sleepStress']\n",
    "    for entry in sleep_stress_l:\n",
    "        sleep_stress_vals['startGMT'].append(datetime.fromtimestamp(int(str(entry['startGMT'])[:10])))\n",
    "        sleep_stress_vals['value'].append(entry['value'])\n",
    "            \n",
    "daily_sleep_df = pd.DataFrame(daily_sleep_vals)\n",
    "sleep_movement_df = pd.DataFrame(sleep_movement_vals)\n",
    "sleep_activity_lvl_df = pd.DataFrame(sleep_level_vals)\n",
    "sleep_resp_df = pd.DataFrame(sleep_resp_vals)\n",
    "sleep_stress_df = pd.DataFrame(sleep_stress_vals)"
   ]
  },
  {
   "cell_type": "code",
   "execution_count": null,
   "metadata": {},
   "outputs": [],
   "source": [
    "# stress data - every three minutes\n",
    "# body battery - every three minutes\n",
    "stress_vals = {\n",
    "    'timestampGMT': [],\n",
    "    'stressLevel': []\n",
    "}\n",
    "\n",
    "battery_vals = {\n",
    "    'timestampGMT': [],\n",
    "    'bodyBatteryStatus': [],\n",
    "    'bodyBatteryLevel': [],\n",
    "    'bodyBatteryVersion': []\n",
    "}\n",
    "\n",
    "for i in range(LOOKBACK_WINDOW):\n",
    "    stress_api = api.get_stress_data((START_DATE - timedelta(days=i)).isoformat())\n",
    "    #stress parsing\n",
    "    stress_l = stress_api['stressValuesArray']\n",
    "    for entry in stress_l:\n",
    "        timestamp = datetime.fromtimestamp(int(str(entry[0])[:10]))\n",
    "        stress_vals['timestampGMT'].append(timestamp)\n",
    "        stress_vals['stressLevel'].append(entry[1])\n",
    "        \n",
    "    #body battery parsing\n",
    "    body_battery_l = stress_api['bodyBatteryValuesArray']\n",
    "    for entry in body_battery_l:\n",
    "        timestamp = datetime.fromtimestamp(int(str(entry[0])[:10]))\n",
    "        battery_vals['timestampGMT'].append(timestamp)\n",
    "        battery_vals['bodyBatteryStatus'].append(entry[1])\n",
    "        battery_vals['bodyBatteryLevel'].append(entry[2])\n",
    "        battery_vals['bodyBatteryVersion'].append(entry[3])\n",
    "        \n",
    "stress_df = pd.DataFrame(stress_vals)\n",
    "body_battery_df = pd.DataFrame(battery_vals)"
   ]
  }
 ],
 "metadata": {
  "kernelspec": {
   "display_name": "Python 3 (ipykernel)",
   "language": "python",
   "name": "python3"
  },
  "language_info": {
   "codemirror_mode": {
    "name": "ipython",
    "version": 3
   },
   "file_extension": ".py",
   "mimetype": "text/x-python",
   "name": "python",
   "nbconvert_exporter": "python",
   "pygments_lexer": "ipython3",
   "version": "3.9.13"
  },
  "vscode": {
   "interpreter": {
    "hash": "a89cca29c666dcf9577f21731da58dd6077a2c77eed0224de4447ee3aeed381c"
   }
  }
 },
 "nbformat": 4,
 "nbformat_minor": 2
}
