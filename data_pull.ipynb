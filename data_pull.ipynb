{
 "cells": [
  {
   "cell_type": "code",
   "execution_count": null,
   "metadata": {},
   "outputs": [],
   "source": [
    "import pandas as pd\n",
    "import numpy as np\n",
    "import json\n",
    "import os\n",
    "from datetime import datetime, timedelta\n",
    "from garminconnect import Garmin"
   ]
  },
  {
   "cell_type": "code",
   "execution_count": null,
   "metadata": {},
   "outputs": [],
   "source": [
    "LOOKBACK_WINDOW = 3\n",
    "START_DATE = datetime.today()"
   ]
  },
  {
   "cell_type": "code",
   "execution_count": null,
   "metadata": {},
   "outputs": [],
   "source": [
    "email = os.getenv('garmin_email')\n",
    "password = os.environ.get('garmin_pwd')"
   ]
  },
  {
   "cell_type": "code",
   "execution_count": null,
   "metadata": {},
   "outputs": [],
   "source": [
    "api = Garmin(email, password)\n",
    "api.login()"
   ]
  },
  {
   "cell_type": "code",
   "execution_count": null,
   "metadata": {},
   "outputs": [],
   "source": [
    "# steps data\n",
    "steps_vals = {\n",
    "    'startGMT': [],\n",
    "    'endGMT': [],\n",
    "    'steps': [],\n",
    "    'primaryActivityLevel': [],\n",
    "    'activityLevelConstant': []\n",
    "}\n",
    "for i in range(LOOKBACK_WINDOW):\n",
    "    steps_l = api.get_steps_data((START_DATE - timedelta(days=i)).isoformat())\n",
    "    for entry in steps_l:\n",
    "        for key in entry:\n",
    "            steps_vals[key].append(entry[key])\n",
    "# steps df has info on the number of steps, activity level in 15 min interval\n",
    "steps_df = pd.DataFrame(steps_vals)\n"
   ]
  },
  {
   "cell_type": "code",
   "execution_count": null,
   "metadata": {},
   "outputs": [],
   "source": [
    "# heart rate data\n",
    "hr_vals = {\n",
    "    'recordGMT': [],\n",
    "    'heartRate': []\n",
    "}\n",
    "\n",
    "for i in range(LOOKBACK_WINDOW):\n",
    "    heart_l = api.get_heart_rates((START_DATE - timedelta(days=i)).isoformat())['heartRateValues']\n",
    "    for entry in heart_l:\n",
    "        timestamp = datetime.fromtimestamp(int(str(entry[0])[:10]))\n",
    "        hr_vals['recordGMT'].append(timestamp)\n",
    "        hr_vals['heartRate'].append(entry[1])\n",
    "\n",
    "# heart rate data available at a 2 minute interval\n",
    "hr_df = pd.DataFrame(hr_vals)\n"
   ]
  },
  {
   "cell_type": "code",
   "execution_count": null,
   "metadata": {},
   "outputs": [],
   "source": [
    "# daily resting heart data\n",
    "rhr_vals = {\n",
    "    'calendarDate': [],\n",
    "    'restingHeartRate': []\n",
    "}\n",
    "\n",
    "for i in range(LOOKBACK_WINDOW):\n",
    "    rhr_dict = api.get_rhr_day((START_DATE - timedelta(days=i)).isoformat())['allMetrics']['metricsMap']['WELLNESS_RESTING_HEART_RATE'][0]\n",
    "    rhr_vals['calendarDate'].append(rhr_dict['calendarDate'])\n",
    "    rhr_vals['restingHeartRate'].append(rhr_dict['value'])\n",
    "\n",
    "# resting heart rate available daily\n",
    "rhr_df = pd.DataFrame(rhr_vals)"
   ]
  },
  {
   "cell_type": "code",
   "execution_count": null,
   "metadata": {},
   "outputs": [],
   "source": [
    "# hydration data is missing a lot of data - is it manual input?\n",
    "# hydration daily"
   ]
  },
  {
   "cell_type": "code",
   "execution_count": null,
   "metadata": {},
   "outputs": [],
   "source": [
    "# sleep data consists of different JSONs\n",
    "# unpack and create different dfs\n",
    "# TODO\n",
    "sleep_dict = api.get_sleep_data((START_DATE - timedelta(days=i)).isoformat())\n",
    "sleep_dict.keys()"
   ]
  },
  {
   "cell_type": "code",
   "execution_count": null,
   "metadata": {},
   "outputs": [],
   "source": [
    "# stress data\n",
    "# TODO\n",
    "api.get_stress_data((datetime.today()).isoformat()).keys()"
   ]
  },
  {
   "cell_type": "code",
   "execution_count": null,
   "metadata": {},
   "outputs": [],
   "source": []
  }
 ],
 "metadata": {
  "kernelspec": {
   "display_name": "Python 3.9.13 ('venv': venv)",
   "language": "python",
   "name": "python3"
  },
  "language_info": {
   "codemirror_mode": {
    "name": "ipython",
    "version": 3
   },
   "file_extension": ".py",
   "mimetype": "text/x-python",
   "name": "python",
   "nbconvert_exporter": "python",
   "pygments_lexer": "ipython3",
   "version": "3.9.13"
  },
  "orig_nbformat": 4,
  "vscode": {
   "interpreter": {
    "hash": "10e3c6467a61665b976043cb3f856d779e70d653721efd91941987d756a0c4a8"
   }
  }
 },
 "nbformat": 4,
 "nbformat_minor": 2
}
